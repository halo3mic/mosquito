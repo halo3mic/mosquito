{
 "cells": [
  {
   "cell_type": "code",
   "execution_count": 1,
   "metadata": {},
   "outputs": [],
   "source": [
    "from pprint import pprint\n",
    "import pandas as pd\n",
    "import time\n",
    "import IPython\n",
    "pd.options.mode.chained_assignment = None  # default='warn'"
   ]
  },
  {
   "cell_type": "markdown",
   "metadata": {},
   "source": [
    "# Opportunities"
   ]
  },
  {
   "cell_type": "code",
   "execution_count": 2,
   "metadata": {},
   "outputs": [],
   "source": [
    "df = pd.DataFrame(pd.read_csv(\"../logs/arbbot.csv\", error_bad_lines=False))\n",
    "df[\"humanTimestamp\"] = pd.to_datetime(df['blockTimestamp'], unit='s')\n",
    "df[\"runTime\"] = df[\"endTimestamp\"] - df[\"startTimestamp\"]"
   ]
  },
  {
   "cell_type": "code",
   "execution_count": 3,
   "metadata": {},
   "outputs": [],
   "source": [
    "# Limit to hour span\n",
    "hour_limit = 24\n",
    "sec_limit = hour_limit * 3600\n",
    "df = df[df.blockTimestamp > time.time()-sec_limit]"
   ]
  },
  {
   "cell_type": "code",
   "execution_count": 4,
   "metadata": {},
   "outputs": [
    {
     "name": "stdout",
     "output_type": "stream",
     "text": [
      "Amount of opp with <10eth input (24h): 84\n",
      "Average input amount (24h): 3.740071428571428 eth\n",
      "Average net profit (24h): 0.008964445238095241 eth\n"
     ]
    }
   ],
   "source": [
    "# df[df[\"netProfit\"]>0].sort_values(by=\"netProfit\", ascending=0)\n",
    "under10 = df[(df.netProfit>0)&(df.optimalAmount<10)].sort_values(by=\"netProfit\", ascending=0)\n",
    "print(f\"Amount of opp with <10eth input (24h): {len(under10)}\")\n",
    "print(f\"Average input amount (24h): {under10.optimalAmount.mean()} eth\")\n",
    "print(f\"Average net profit (24h): {under10.netProfit.mean()} eth\")"
   ]
  },
  {
   "cell_type": "code",
   "execution_count": 5,
   "metadata": {},
   "outputs": [
    {
     "name": "stdout",
     "output_type": "stream",
     "text": [
      "Amount of opp (24h): 13\n",
      "Average input amount (24h): 34.21153846153846 eth\n",
      "Average net profit (24h): 0.029938369230769236 eth\n"
     ]
    }
   ],
   "source": [
    "# df[df[\"netProfit\"]>0].sort_values(by=\"netProfit\", ascending=0)\n",
    "above10 = df[(df.netProfit>0)&(df.optimalAmount>10)].sort_values(by=\"netProfit\", ascending=0)\n",
    "print(f\"Amount of opp (24h): {len(above10)}\")\n",
    "print(f\"Average input amount (24h): {above10.optimalAmount.mean()} eth\")\n",
    "print(f\"Average net profit (24h): {above10.netProfit.mean()} eth\")"
   ]
  },
  {
   "cell_type": "code",
   "execution_count": 6,
   "metadata": {},
   "outputs": [
    {
     "data": {
      "text/html": [
       "<div>\n",
       "<style scoped>\n",
       "    .dataframe tbody tr th:only-of-type {\n",
       "        vertical-align: middle;\n",
       "    }\n",
       "\n",
       "    .dataframe tbody tr th {\n",
       "        vertical-align: top;\n",
       "    }\n",
       "\n",
       "    .dataframe thead th {\n",
       "        text-align: right;\n",
       "    }\n",
       "</style>\n",
       "<table border=\"1\" class=\"dataframe\">\n",
       "  <thead>\n",
       "    <tr style=\"text-align: right;\">\n",
       "      <th></th>\n",
       "      <th>blockNumber</th>\n",
       "      <th>blockTimestamp</th>\n",
       "      <th>instrName</th>\n",
       "      <th>instrId</th>\n",
       "      <th>optimalAmount</th>\n",
       "      <th>grossProfit</th>\n",
       "      <th>netProfit</th>\n",
       "      <th>gasCost</th>\n",
       "      <th>gasAmount</th>\n",
       "      <th>gasAmountArch</th>\n",
       "      <th>startTimestamp</th>\n",
       "      <th>endTimestamp</th>\n",
       "      <th>humanTimestamp</th>\n",
       "      <th>runTime</th>\n",
       "    </tr>\n",
       "  </thead>\n",
       "  <tbody>\n",
       "  </tbody>\n",
       "</table>\n",
       "</div>"
      ],
      "text/plain": [
       "Empty DataFrame\n",
       "Columns: [blockNumber, blockTimestamp, instrName, instrId, optimalAmount, grossProfit, netProfit, gasCost, gasAmount, gasAmountArch, startTimestamp, endTimestamp, humanTimestamp, runTime]\n",
       "Index: []"
      ]
     },
     "execution_count": 6,
     "metadata": {},
     "output_type": "execute_result"
    }
   ],
   "source": [
    "df[(df.blockNumber<11596552)&(df.instrName==\"weth2snx2weth_sushiswap2Uniswap\")].sort_values(by=\"blockNumber\", ascending=0)"
   ]
  },
  {
   "cell_type": "code",
   "execution_count": 7,
   "metadata": {},
   "outputs": [
    {
     "data": {
      "text/html": [
       "<div>\n",
       "<style scoped>\n",
       "    .dataframe tbody tr th:only-of-type {\n",
       "        vertical-align: middle;\n",
       "    }\n",
       "\n",
       "    .dataframe tbody tr th {\n",
       "        vertical-align: top;\n",
       "    }\n",
       "\n",
       "    .dataframe thead th {\n",
       "        text-align: right;\n",
       "    }\n",
       "</style>\n",
       "<table border=\"1\" class=\"dataframe\">\n",
       "  <thead>\n",
       "    <tr style=\"text-align: right;\">\n",
       "      <th></th>\n",
       "      <th>blockNumber</th>\n",
       "      <th>blockTimestamp</th>\n",
       "      <th>instrName</th>\n",
       "      <th>instrId</th>\n",
       "      <th>optimalAmount</th>\n",
       "      <th>grossProfit</th>\n",
       "      <th>netProfit</th>\n",
       "      <th>gasCost</th>\n",
       "      <th>gasAmount</th>\n",
       "      <th>gasAmountArch</th>\n",
       "      <th>startTimestamp</th>\n",
       "      <th>endTimestamp</th>\n",
       "      <th>humanTimestamp</th>\n",
       "      <th>runTime</th>\n",
       "    </tr>\n",
       "  </thead>\n",
       "  <tbody>\n",
       "  </tbody>\n",
       "</table>\n",
       "</div>"
      ],
      "text/plain": [
       "Empty DataFrame\n",
       "Columns: [blockNumber, blockTimestamp, instrName, instrId, optimalAmount, grossProfit, netProfit, gasCost, gasAmount, gasAmountArch, startTimestamp, endTimestamp, humanTimestamp, runTime]\n",
       "Index: []"
      ]
     },
     "execution_count": 7,
     "metadata": {},
     "output_type": "execute_result"
    }
   ],
   "source": [
    "df[(df.blockNumber<11598808)&(df.instrName==\"weth2band2weth_sushiswap2Uniswap\")].sort_values(by=\"blockNumber\", ascending=0)"
   ]
  },
  {
   "cell_type": "markdown",
   "metadata": {},
   "source": [
    "## Best opportunities so far"
   ]
  },
  {
   "cell_type": "code",
   "execution_count": 8,
   "metadata": {},
   "outputs": [
    {
     "data": {
      "text/html": [
       "<div>\n",
       "<style scoped>\n",
       "    .dataframe tbody tr th:only-of-type {\n",
       "        vertical-align: middle;\n",
       "    }\n",
       "\n",
       "    .dataframe tbody tr th {\n",
       "        vertical-align: top;\n",
       "    }\n",
       "\n",
       "    .dataframe thead th {\n",
       "        text-align: right;\n",
       "    }\n",
       "</style>\n",
       "<table border=\"1\" class=\"dataframe\">\n",
       "  <thead>\n",
       "    <tr style=\"text-align: right;\">\n",
       "      <th></th>\n",
       "      <th>blockNumber</th>\n",
       "      <th>blockTimestamp</th>\n",
       "      <th>instrName</th>\n",
       "      <th>instrId</th>\n",
       "      <th>optimalAmount</th>\n",
       "      <th>grossProfit</th>\n",
       "      <th>netProfit</th>\n",
       "      <th>gasCost</th>\n",
       "      <th>gasAmount</th>\n",
       "      <th>gasAmountArch</th>\n",
       "      <th>startTimestamp</th>\n",
       "      <th>endTimestamp</th>\n",
       "      <th>humanTimestamp</th>\n",
       "      <th>runTime</th>\n",
       "    </tr>\n",
       "  </thead>\n",
       "  <tbody>\n",
       "    <tr>\n",
       "      <th>102971</th>\n",
       "      <td>11606233</td>\n",
       "      <td>1610004949</td>\n",
       "      <td>weth2yfi2weth_sushiswap2uniswap</td>\n",
       "      <td>I0012</td>\n",
       "      <td>37.520</td>\n",
       "      <td>0.15590</td>\n",
       "      <td>0.13610</td>\n",
       "      <td>0.01979</td>\n",
       "      <td>179907</td>\n",
       "      <td>264907.0</td>\n",
       "      <td>1.610005e+09</td>\n",
       "      <td>1.610005e+09</td>\n",
       "      <td>2021-01-07 07:35:49</td>\n",
       "      <td>2.58564</td>\n",
       "    </tr>\n",
       "    <tr>\n",
       "      <th>94859</th>\n",
       "      <td>11604505</td>\n",
       "      <td>1609982092</td>\n",
       "      <td>weth2band2weth_sushiswap2uniswap</td>\n",
       "      <td>I0018</td>\n",
       "      <td>7.409</td>\n",
       "      <td>0.14540</td>\n",
       "      <td>0.11010</td>\n",
       "      <td>0.03533</td>\n",
       "      <td>247092</td>\n",
       "      <td>384078.0</td>\n",
       "      <td>1.609982e+09</td>\n",
       "      <td>1.609982e+09</td>\n",
       "      <td>2021-01-07 01:14:52</td>\n",
       "      <td>1.70676</td>\n",
       "    </tr>\n",
       "    <tr>\n",
       "      <th>89208</th>\n",
       "      <td>11602591</td>\n",
       "      <td>1609956439</td>\n",
       "      <td>weth2sushi2weth_sushiswap2Uniswap</td>\n",
       "      <td>I0008</td>\n",
       "      <td>7.722</td>\n",
       "      <td>0.12270</td>\n",
       "      <td>0.09345</td>\n",
       "      <td>0.02926</td>\n",
       "      <td>240000</td>\n",
       "      <td>NaN</td>\n",
       "      <td>1.609956e+09</td>\n",
       "      <td>1.609956e+09</td>\n",
       "      <td>2021-01-06 18:07:19</td>\n",
       "      <td>3.09957</td>\n",
       "    </tr>\n",
       "    <tr>\n",
       "      <th>89212</th>\n",
       "      <td>11602592</td>\n",
       "      <td>1609956447</td>\n",
       "      <td>weth2sushi2weth_sushiswap2Uniswap</td>\n",
       "      <td>I0008</td>\n",
       "      <td>7.722</td>\n",
       "      <td>0.12270</td>\n",
       "      <td>0.09345</td>\n",
       "      <td>0.02926</td>\n",
       "      <td>240000</td>\n",
       "      <td>NaN</td>\n",
       "      <td>1.609956e+09</td>\n",
       "      <td>1.609956e+09</td>\n",
       "      <td>2021-01-06 18:07:27</td>\n",
       "      <td>2.95974</td>\n",
       "    </tr>\n",
       "    <tr>\n",
       "      <th>103335</th>\n",
       "      <td>11606368</td>\n",
       "      <td>1610006765</td>\n",
       "      <td>weth2yfi2weth_sushiswap2uniswap</td>\n",
       "      <td>I0012</td>\n",
       "      <td>25.320</td>\n",
       "      <td>0.07105</td>\n",
       "      <td>0.05467</td>\n",
       "      <td>0.01637</td>\n",
       "      <td>179907</td>\n",
       "      <td>264907.0</td>\n",
       "      <td>1.610007e+09</td>\n",
       "      <td>1.610007e+09</td>\n",
       "      <td>2021-01-07 08:06:05</td>\n",
       "      <td>1.22910</td>\n",
       "    </tr>\n",
       "  </tbody>\n",
       "</table>\n",
       "</div>"
      ],
      "text/plain": [
       "        blockNumber  blockTimestamp                          instrName  \\\n",
       "102971     11606233      1610004949    weth2yfi2weth_sushiswap2uniswap   \n",
       "94859      11604505      1609982092   weth2band2weth_sushiswap2uniswap   \n",
       "89208      11602591      1609956439  weth2sushi2weth_sushiswap2Uniswap   \n",
       "89212      11602592      1609956447  weth2sushi2weth_sushiswap2Uniswap   \n",
       "103335     11606368      1610006765    weth2yfi2weth_sushiswap2uniswap   \n",
       "\n",
       "       instrId  optimalAmount  grossProfit  netProfit  gasCost  gasAmount  \\\n",
       "102971   I0012         37.520      0.15590    0.13610  0.01979     179907   \n",
       "94859    I0018          7.409      0.14540    0.11010  0.03533     247092   \n",
       "89208    I0008          7.722      0.12270    0.09345  0.02926     240000   \n",
       "89212    I0008          7.722      0.12270    0.09345  0.02926     240000   \n",
       "103335   I0012         25.320      0.07105    0.05467  0.01637     179907   \n",
       "\n",
       "        gasAmountArch  startTimestamp  endTimestamp      humanTimestamp  \\\n",
       "102971       264907.0    1.610005e+09  1.610005e+09 2021-01-07 07:35:49   \n",
       "94859        384078.0    1.609982e+09  1.609982e+09 2021-01-07 01:14:52   \n",
       "89208             NaN    1.609956e+09  1.609956e+09 2021-01-06 18:07:19   \n",
       "89212             NaN    1.609956e+09  1.609956e+09 2021-01-06 18:07:27   \n",
       "103335       264907.0    1.610007e+09  1.610007e+09 2021-01-07 08:06:05   \n",
       "\n",
       "        runTime  \n",
       "102971  2.58564  \n",
       "94859   1.70676  \n",
       "89208   3.09957  \n",
       "89212   2.95974  \n",
       "103335  1.22910  "
      ]
     },
     "execution_count": 8,
     "metadata": {},
     "output_type": "execute_result"
    }
   ],
   "source": [
    "df.sort_values(by=\"netProfit\", ascending=0).head(5)"
   ]
  },
  {
   "cell_type": "markdown",
   "metadata": {},
   "source": [
    "## Statistics"
   ]
  },
  {
   "cell_type": "code",
   "execution_count": 9,
   "metadata": {},
   "outputs": [],
   "source": [
    "# Limit opportuninities to the ones beyond the threshold to account for gas costs\n",
    "net_profitable_opps = df[df.netProfit > 0]\n",
    "opp_count = net_profitable_opps.blockNumber.count()\n",
    "runtime_mean = net_profitable_opps.runTime.mean()\n",
    "max_profit = net_profitable_opps.netProfit.max()\n",
    "mean_profit = net_profitable_opps.netProfit.mean()\n",
    "total_profit = net_profitable_opps.netProfit.sum()"
   ]
  },
  {
   "cell_type": "code",
   "execution_count": 10,
   "metadata": {},
   "outputs": [
    {
     "name": "stdout",
     "output_type": "stream",
     "text": [
      "Opportunitys count: 97\n",
      "Latency average: 1.87 sec\n",
      "Max profit: 0.14 ETH\n",
      "Average profit: 0.01 ETH\n"
     ]
    }
   ],
   "source": [
    "print(f\"Opportunitys count: {opp_count}\")\n",
    "print(f\"Latency average: {runtime_mean:.2f} sec\")\n",
    "print(f\"Max profit: {max_profit:.2f} ETH\")\n",
    "print(f\"Average profit: {mean_profit:.2f} ETH\")"
   ]
  },
  {
   "cell_type": "markdown",
   "metadata": {},
   "source": [
    "## Instruction analysis"
   ]
  },
  {
   "cell_type": "code",
   "execution_count": 11,
   "metadata": {},
   "outputs": [
    {
     "data": {
      "text/html": [
       "<div>\n",
       "<style scoped>\n",
       "    .dataframe tbody tr th:only-of-type {\n",
       "        vertical-align: middle;\n",
       "    }\n",
       "\n",
       "    .dataframe tbody tr th {\n",
       "        vertical-align: top;\n",
       "    }\n",
       "\n",
       "    .dataframe thead th {\n",
       "        text-align: right;\n",
       "    }\n",
       "</style>\n",
       "<table border=\"1\" class=\"dataframe\">\n",
       "  <thead>\n",
       "    <tr style=\"text-align: right;\">\n",
       "      <th></th>\n",
       "      <th>count</th>\n",
       "      <th>max_profit</th>\n",
       "      <th>summed_profit</th>\n",
       "      <th>mean_profit</th>\n",
       "    </tr>\n",
       "  </thead>\n",
       "  <tbody>\n",
       "    <tr>\n",
       "      <th>weth2sushi2weth_sushiswap2Uniswap</th>\n",
       "      <td>2</td>\n",
       "      <td>0.093450</td>\n",
       "      <td>0.186900</td>\n",
       "      <td>0.093450</td>\n",
       "    </tr>\n",
       "    <tr>\n",
       "      <th>weth2yfi2weth_sushiswap2uniswap</th>\n",
       "      <td>6</td>\n",
       "      <td>0.136100</td>\n",
       "      <td>0.307614</td>\n",
       "      <td>0.051269</td>\n",
       "    </tr>\n",
       "    <tr>\n",
       "      <th>weth2band2weth_uniswap2sushiswap</th>\n",
       "      <td>1</td>\n",
       "      <td>0.042390</td>\n",
       "      <td>0.042390</td>\n",
       "      <td>0.042390</td>\n",
       "    </tr>\n",
       "    <tr>\n",
       "      <th>weth2dai2weth_sushiswap2Uniswap</th>\n",
       "      <td>1</td>\n",
       "      <td>0.024150</td>\n",
       "      <td>0.024150</td>\n",
       "      <td>0.024150</td>\n",
       "    </tr>\n",
       "    <tr>\n",
       "      <th>weth2band2weth_sushiswap2uniswap</th>\n",
       "      <td>7</td>\n",
       "      <td>0.110100</td>\n",
       "      <td>0.139049</td>\n",
       "      <td>0.019864</td>\n",
       "    </tr>\n",
       "    <tr>\n",
       "      <th>weth2inj2weth_uniswap2sushiswap</th>\n",
       "      <td>2</td>\n",
       "      <td>0.014810</td>\n",
       "      <td>0.029620</td>\n",
       "      <td>0.014810</td>\n",
       "    </tr>\n",
       "    <tr>\n",
       "      <th>weth2wbtc2weth_uniswap2Sushiswap</th>\n",
       "      <td>3</td>\n",
       "      <td>0.019410</td>\n",
       "      <td>0.042870</td>\n",
       "      <td>0.014290</td>\n",
       "    </tr>\n",
       "    <tr>\n",
       "      <th>weth2kp3r2weth_sushiswap2uniswap</th>\n",
       "      <td>4</td>\n",
       "      <td>0.019030</td>\n",
       "      <td>0.056996</td>\n",
       "      <td>0.014249</td>\n",
       "    </tr>\n",
       "    <tr>\n",
       "      <th>weth2kp3rweth_sushiswap2Uniswap</th>\n",
       "      <td>2</td>\n",
       "      <td>0.015000</td>\n",
       "      <td>0.026880</td>\n",
       "      <td>0.013440</td>\n",
       "    </tr>\n",
       "    <tr>\n",
       "      <th>weth2usdc2weth_uniswap2sushiswap</th>\n",
       "      <td>1</td>\n",
       "      <td>0.012640</td>\n",
       "      <td>0.012640</td>\n",
       "      <td>0.012640</td>\n",
       "    </tr>\n",
       "    <tr>\n",
       "      <th>weth2kp3r2weth_uniswap2sushiswap</th>\n",
       "      <td>4</td>\n",
       "      <td>0.020630</td>\n",
       "      <td>0.050164</td>\n",
       "      <td>0.012541</td>\n",
       "    </tr>\n",
       "    <tr>\n",
       "      <th>weth2sushi2weth_sushiswap2uniswap</th>\n",
       "      <td>4</td>\n",
       "      <td>0.011400</td>\n",
       "      <td>0.034657</td>\n",
       "      <td>0.008664</td>\n",
       "    </tr>\n",
       "    <tr>\n",
       "      <th>weth2comp2weth_sushiswap2uniswap</th>\n",
       "      <td>1</td>\n",
       "      <td>0.008518</td>\n",
       "      <td>0.008518</td>\n",
       "      <td>0.008518</td>\n",
       "    </tr>\n",
       "    <tr>\n",
       "      <th>weth2band2weth_sushiswap2Uniswap</th>\n",
       "      <td>4</td>\n",
       "      <td>0.011070</td>\n",
       "      <td>0.032528</td>\n",
       "      <td>0.008132</td>\n",
       "    </tr>\n",
       "    <tr>\n",
       "      <th>weth2mkr2weth_sushiswap2uniswap</th>\n",
       "      <td>5</td>\n",
       "      <td>0.009479</td>\n",
       "      <td>0.032800</td>\n",
       "      <td>0.006560</td>\n",
       "    </tr>\n",
       "    <tr>\n",
       "      <th>weth2mkr2weth_uniswap2sushiswap</th>\n",
       "      <td>6</td>\n",
       "      <td>0.012870</td>\n",
       "      <td>0.029857</td>\n",
       "      <td>0.004976</td>\n",
       "    </tr>\n",
       "    <tr>\n",
       "      <th>weth2hegic2weth_sushiswap2uniswap</th>\n",
       "      <td>23</td>\n",
       "      <td>0.005824</td>\n",
       "      <td>0.053836</td>\n",
       "      <td>0.002341</td>\n",
       "    </tr>\n",
       "    <tr>\n",
       "      <th>weth2wnxm2weth_uniswap2sushiswap</th>\n",
       "      <td>18</td>\n",
       "      <td>0.003667</td>\n",
       "      <td>0.028369</td>\n",
       "      <td>0.001576</td>\n",
       "    </tr>\n",
       "    <tr>\n",
       "      <th>weth2wbtc2weth_uniswap2sushiswap</th>\n",
       "      <td>1</td>\n",
       "      <td>0.001004</td>\n",
       "      <td>0.001004</td>\n",
       "      <td>0.001004</td>\n",
       "    </tr>\n",
       "    <tr>\n",
       "      <th>weth2snx2weth_sushiswap2uniswap</th>\n",
       "      <td>1</td>\n",
       "      <td>0.000921</td>\n",
       "      <td>0.000921</td>\n",
       "      <td>0.000921</td>\n",
       "    </tr>\n",
       "    <tr>\n",
       "      <th>weth2crv2weth_sushiswap2uniswap</th>\n",
       "      <td>1</td>\n",
       "      <td>0.000450</td>\n",
       "      <td>0.000450</td>\n",
       "      <td>0.000450</td>\n",
       "    </tr>\n",
       "  </tbody>\n",
       "</table>\n",
       "</div>"
      ],
      "text/plain": [
       "                                   count  max_profit  summed_profit  \\\n",
       "weth2sushi2weth_sushiswap2Uniswap      2    0.093450       0.186900   \n",
       "weth2yfi2weth_sushiswap2uniswap        6    0.136100       0.307614   \n",
       "weth2band2weth_uniswap2sushiswap       1    0.042390       0.042390   \n",
       "weth2dai2weth_sushiswap2Uniswap        1    0.024150       0.024150   \n",
       "weth2band2weth_sushiswap2uniswap       7    0.110100       0.139049   \n",
       "weth2inj2weth_uniswap2sushiswap        2    0.014810       0.029620   \n",
       "weth2wbtc2weth_uniswap2Sushiswap       3    0.019410       0.042870   \n",
       "weth2kp3r2weth_sushiswap2uniswap       4    0.019030       0.056996   \n",
       "weth2kp3rweth_sushiswap2Uniswap        2    0.015000       0.026880   \n",
       "weth2usdc2weth_uniswap2sushiswap       1    0.012640       0.012640   \n",
       "weth2kp3r2weth_uniswap2sushiswap       4    0.020630       0.050164   \n",
       "weth2sushi2weth_sushiswap2uniswap      4    0.011400       0.034657   \n",
       "weth2comp2weth_sushiswap2uniswap       1    0.008518       0.008518   \n",
       "weth2band2weth_sushiswap2Uniswap       4    0.011070       0.032528   \n",
       "weth2mkr2weth_sushiswap2uniswap        5    0.009479       0.032800   \n",
       "weth2mkr2weth_uniswap2sushiswap        6    0.012870       0.029857   \n",
       "weth2hegic2weth_sushiswap2uniswap     23    0.005824       0.053836   \n",
       "weth2wnxm2weth_uniswap2sushiswap      18    0.003667       0.028369   \n",
       "weth2wbtc2weth_uniswap2sushiswap       1    0.001004       0.001004   \n",
       "weth2snx2weth_sushiswap2uniswap        1    0.000921       0.000921   \n",
       "weth2crv2weth_sushiswap2uniswap        1    0.000450       0.000450   \n",
       "\n",
       "                                   mean_profit  \n",
       "weth2sushi2weth_sushiswap2Uniswap     0.093450  \n",
       "weth2yfi2weth_sushiswap2uniswap       0.051269  \n",
       "weth2band2weth_uniswap2sushiswap      0.042390  \n",
       "weth2dai2weth_sushiswap2Uniswap       0.024150  \n",
       "weth2band2weth_sushiswap2uniswap      0.019864  \n",
       "weth2inj2weth_uniswap2sushiswap       0.014810  \n",
       "weth2wbtc2weth_uniswap2Sushiswap      0.014290  \n",
       "weth2kp3r2weth_sushiswap2uniswap      0.014249  \n",
       "weth2kp3rweth_sushiswap2Uniswap       0.013440  \n",
       "weth2usdc2weth_uniswap2sushiswap      0.012640  \n",
       "weth2kp3r2weth_uniswap2sushiswap      0.012541  \n",
       "weth2sushi2weth_sushiswap2uniswap     0.008664  \n",
       "weth2comp2weth_sushiswap2uniswap      0.008518  \n",
       "weth2band2weth_sushiswap2Uniswap      0.008132  \n",
       "weth2mkr2weth_sushiswap2uniswap       0.006560  \n",
       "weth2mkr2weth_uniswap2sushiswap       0.004976  \n",
       "weth2hegic2weth_sushiswap2uniswap     0.002341  \n",
       "weth2wnxm2weth_uniswap2sushiswap      0.001576  \n",
       "weth2wbtc2weth_uniswap2sushiswap      0.001004  \n",
       "weth2snx2weth_sushiswap2uniswap       0.000921  \n",
       "weth2crv2weth_sushiswap2uniswap       0.000450  "
      ]
     },
     "execution_count": 11,
     "metadata": {},
     "output_type": "execute_result"
    }
   ],
   "source": [
    "opp_comp_df = df\n",
    "opp_comp_df = net_profitable_opps.groupby(\"instrName\").agg({\"blockNumber\": \"count\", \"netProfit\": [\"max\", \"sum\", \"mean\"]})\n",
    "opp_comp_df.columns = [\"count\", \"max_profit\", \"summed_profit\", \"mean_profit\"]\n",
    "opp_comp_df.index.name = None\n",
    "opp_comp_df.sort_values(by=\"mean_profit\", ascending=0)"
   ]
  },
  {
   "cell_type": "markdown",
   "metadata": {},
   "source": [
    "# Archer submissions"
   ]
  },
  {
   "cell_type": "code",
   "execution_count": 12,
   "metadata": {},
   "outputs": [],
   "source": [
    "df_arch = pd.DataFrame(pd.read_csv(\"../logs/archer_api_requests.csv\"))\n",
    "df_arch.columns = [\n",
    "                \"bot_id\", \n",
    "                \"target_block\", \n",
    "                \"trade\", \n",
    "                \"estimated_profit_before_gas\", \n",
    "                \"gas_estimate\", \n",
    "                \"query\", \n",
    "                \"query_breakeven\",\n",
    "                \"input_amount\",\n",
    "                \"input_asset\",\n",
    "                \"query_insert_locations\", \n",
    "                \"trade_insert_locations\", \n",
    "                \"response\"\n",
    "             ]"
   ]
  },
  {
   "cell_type": "code",
   "execution_count": 13,
   "metadata": {},
   "outputs": [
    {
     "name": "stdout",
     "output_type": "stream",
     "text": [
      "bot_id                         2                                                                                                                                                                                                                                                                                                                                                                                                                                                                                                                                                                                                                                                                                                                                                                                                                                                                                                                                                                                                                                                                                                                                                                                                                               \n",
      "target_block                   11602794                                                                                                                                                                                                                                                                                                                                                                                                                                                                                                                                                                                                                                                                                                                                                                                                                                                                                                                                                                                                                                                                                                                                                                                                                        \n",
      "trade                          d9e1cE17f2641f24aE83637ab66a2cca9C378B9F00000000000000000000000000000000000000000000000000000000000000e47ff36ab500000000000000000000000000000000000000000000000000000000000000000000000000000000000000000000000000000000000000000000000000000080000000000000000000000000d30ce37a6f2424593dabe9b712d235781815445d000000000000000000000000000000000000000000000000000000005ff608b40000000000000000000000000000000000000000000000000000000000000002000000000000000000000000c02aaa39b223fe8d0a0e5c4f27ead9083c756cc2000000000000000000000000e28b3b32b6c345a34ff64674606124dd5aceca307a250d5630B4cF539739dF2C5dAcb4c659F2488D000000000000000000000000000000000000000000000000000000000000010418cbafe500000000000000000000000000000000000000000000000fee1dead0fbadf00d000000000000000000000000000000000000000000000000000000000000000000000000000000000000000000000000000000000000000000000000000000a0000000000000000000000000d30ce37a6f2424593dabe9b712d235781815445d000000000000000000000000000000000000000000000000000000005ff608b40000000000000000000000000000000000000000000000000000000000000002000000000000000000000000e28b3b32b6c345a34ff64674606124dd5aceca30000000000000000000000000c02aaa39b223fe8d0a0e5c4f27ead9083c756cc2\n",
      "estimated_profit_before_gas    19450000000000000                                                                                                                                                                                                                                                                                                                                                                                                                                                                                                                                                                                                                                                                                                                                                                                                                                                                                                                                                                                                                                                                                                                                                                                                               \n",
      "gas_estimate                   240000                                                                                                                                                                                                                                                                                                                                                                                                                                                                                                                                                                                                                                                                                                                                                                                                                                                                                                                                                                                                                                                                                                                                                                                                                          \n",
      "query                          121835e15703a1a7bab32626d0927D60F90A81D700000000000000000000000000000000000000000000000000000000000000847f2b0c09000000000000000000000000d9e1ce17f2641f24ae83637ab66a2cca9c378b9f0000000000000000000000000000000000000000000000001dfd6a0cef9e8000000000000000000000000000c02aaa39b223fe8d0a0e5c4f27ead9083c756cc2000000000000000000000000e28b3b32b6c345a34ff64674606124dd5aceca30121835e15703a1a7bab32626d0927D60F90A81D700000000000000000000000000000000000000000000000000000000000000847f2b0c090000000000000000000000007a250d5630b4cf539739df2c5dacb4c659f2488d00000000000000000000000000000000000000000000000fee1dead0fbadf00d000000000000000000000000e28b3b32b6c345a34ff64674606124dd5aceca30000000000000000000000000c02aaa39b223fe8d0a0e5c4f27ead9083c756cc2                                                                                                                                                                                                                                                                                                                                                                                                                                                                \n",
      "query_breakeven                0                                                                                                                                                                                                                                                                                                                                                                                                                                                                                                                                                                                                                                                                                                                                                                                                                                                                                                                                                                                                                                                                                                                                                                                                                               \n",
      "input_amount                   2161000000000000000                                                                                                                                                                                                                                                                                                                                                                                                                                                                                                                                                                                                                                                                                                                                                                                                                                                                                                                                                                                                                                                                                                                                                                                                             \n",
      "input_asset                    ETH                                                                                                                                                                                                                                                                                                                                                                                                                                                                                                                                                                                                                                                                                                                                                                                                                                                                                                                                                                                                                                                                                                                                                                                                                             \n",
      "query_insert_locations         ['272']                                                                                                                                                                                                                                                                                                                                                                                                                                                                                                                                                                                                                                                                                                                                                                                                                                                                                                                                                                                                                                                                                                                                                                                                                         \n",
      "trade_insert_locations         ['336']                                                                                                                                                                                                                                                                                                                                                                                                                                                                                                                                                                                                                                                                                                                                                                                                                                                                                                                                                                                                                                                                                                                                                                                                                         \n",
      "response                       {'most_profitable': True, 'opportunity_id': '2-1609959316.113', 'status': 'success'}                                                                                                                                                                                                                                                                                                                                                                                                                                                                                                                                                                                                                                                                                                                                                                                                                                                                                                                                                                                                                                                                                                                                            \n",
      "Name: 8005, dtype: object\n"
     ]
    },
    {
     "name": "stderr",
     "output_type": "stream",
     "text": [
      "/home/mike/Desktop/mosquito/env/lib/python3.7/site-packages/ipykernel_launcher.py:1: FutureWarning: Passing a negative integer is deprecated in version 1.0 and will not be supported in future version. Instead, use None to not limit the column width.\n",
      "  \"\"\"Entry point for launching an IPython kernel.\n"
     ]
    }
   ],
   "source": [
    "pd.set_option('display.max_colwidth', -1)\n",
    "cut = df_arch[df_arch.target_block==11602794]\n",
    "if len(cut):\n",
    "    cut = cut.iloc[0]\n",
    "print(cut)"
   ]
  },
  {
   "cell_type": "markdown",
   "metadata": {},
   "source": [
    "\"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\""
   ]
  },
  {
   "cell_type": "code",
   "execution_count": null,
   "metadata": {},
   "outputs": [],
   "source": []
  }
 ],
 "metadata": {
  "kernelspec": {
   "display_name": "Python 3.7.5 64-bit ('env': venv)",
   "language": "python",
   "name": "python37564bitenvvenv6daeb6cdeca4420c947f752784bbf327"
  },
  "language_info": {
   "codemirror_mode": {
    "name": "ipython",
    "version": 3
   },
   "file_extension": ".py",
   "mimetype": "text/x-python",
   "name": "python",
   "nbconvert_exporter": "python",
   "pygments_lexer": "ipython3",
   "version": "3.7.5"
  }
 },
 "nbformat": 4,
 "nbformat_minor": 2
}
